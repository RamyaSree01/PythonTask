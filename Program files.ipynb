{
 "cells": [
  {
   "cell_type": "code",
   "execution_count": 2,
   "metadata": {},
   "outputs": [
    {
     "name": "stdout",
     "output_type": "stream",
     "text": [
      "['192.168.1.1', '192.168.1.1', '192.168.4.164', '69.168.4.226', '32.89.31.164', '67.168.3.227']\n",
      "{'192.168.1.1': 2, '192.168.4.164': 1, '69.168.4.226': 1, '32.89.31.164': 1, '67.168.3.227': 1}\n"
     ]
    }
   ],
   "source": [
    "#1.\tExtract IP address from a paragraph and get a count of repeating ip address in a dictionary\n",
    "import re #Import library Regular Expression \n",
    "string = \"\"\"the ip address are 192.168.1.1\n",
    "192.168.1.1\n",
    "192.168.4.164\n",
    "69.168.4.226\n",
    "32.89.31.164\n",
    "67.168.3.227\"\"\"\n",
    "ip= re.findall(r'[0-9]+(?:\\.[0-9]+){3}',string) #Validating for Numeric values\n",
    "print(ip)\n",
    "count1 = {i:ip.count(i) for i in ip} #Count the ip address\n",
    "print(count1)"
   ]
  },
  {
   "cell_type": "code",
   "execution_count": 3,
   "metadata": {},
   "outputs": [
    {
     "name": "stdout",
     "output_type": "stream",
     "text": [
      "[4, 1, 2]\n",
      "[7, 5, 3]\n",
      "[8, 9, 6]\n"
     ]
    }
   ],
   "source": [
    "# Python program to rotate a matrix\n",
    "# Function to rotate a matrix\n",
    "def rotateMatrix(mat):\n",
    "    if not len(mat):\n",
    "        return\n",
    "    top = 0 #top : starting row index\n",
    "    bottom = len(mat)-1#bottom : ending row index\n",
    "    left = 0#left : starting column index\n",
    "    right = len(mat[0])-1#right : ending column index\n",
    "    while left < right and top < bottom:\n",
    "        # Store the first element of next row,\n",
    "        # this element will replace first element of\n",
    "        # current row\n",
    "        prev = mat[top+1][left]\n",
    "        # Move elements of top row one step right\n",
    "        for i in range(left, right+1):\n",
    "            curr = mat[top][i]\n",
    "            mat[top][i] = prev\n",
    "            prev = curr\n",
    "        top += 1\n",
    "        # Move elements of rightmost column one step downwards\n",
    "        for i in range(top, bottom+1):\n",
    "            curr = mat[i][right]\n",
    "            mat[i][right] = prev\n",
    "            prev = curr\n",
    "        right -= 1\n",
    "\n",
    "        # Move elements of bottom row one step left\n",
    "        for i in range(right, left-1, -1):\n",
    "            curr = mat[bottom][i]\n",
    "            mat[bottom][i] = prev\n",
    "            prev = curr\n",
    "        bottom -= 1\n",
    "        # Move elements of leftmost column one step upwards\n",
    "        for i in range(bottom, top-1, -1):\n",
    "            curr = mat[i][left]\n",
    "            mat[i][left] = prev\n",
    "            prev = curr\n",
    "        left += 1\n",
    "    return mat\n",
    "# Utility Function\n",
    "def printMatrix(mat):\n",
    "    for row in mat:\n",
    "        print (row)\n",
    "# Test case 1\n",
    "#matrix =[\n",
    " #           [1, 2, 3, 4 ],\n",
    "  #          [5, 6, 7, 8 ],\n",
    "   #         [9, 10, 11, 12 ],\n",
    "    #        [13, 14, 15, 16 ]\n",
    "     #   ]\n",
    "# Test case 2\n",
    "matrix =[\n",
    "            [1, 2, 3],\n",
    "            [4, 5, 6],\n",
    "            [7, 8, 9]\n",
    "        ]\n",
    "matrix = rotateMatrix(matrix)\n",
    "# Print modified matrix\n",
    "printMatrix(matrix)"
   ]
  },
  {
   "cell_type": "code",
   "execution_count": null,
   "metadata": {},
   "outputs": [],
   "source": []
  }
 ],
 "metadata": {
  "kernelspec": {
   "display_name": "Python 3",
   "language": "python",
   "name": "python3"
  },
  "language_info": {
   "codemirror_mode": {
    "name": "ipython",
    "version": 3
   },
   "file_extension": ".py",
   "mimetype": "text/x-python",
   "name": "python",
   "nbconvert_exporter": "python",
   "pygments_lexer": "ipython3",
   "version": "3.7.6"
  }
 },
 "nbformat": 4,
 "nbformat_minor": 4
}
